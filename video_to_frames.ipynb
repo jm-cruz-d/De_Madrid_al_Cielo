{
 "cells": [
  {
   "cell_type": "code",
   "execution_count": 3,
   "metadata": {},
   "outputs": [],
   "source": [
    "import cv2 \n",
    "import re\n",
    "import glob"
   ]
  },
  {
   "cell_type": "code",
   "execution_count": 8,
   "metadata": {},
   "outputs": [],
   "source": [
    "#SI NO APARECE EN LA CARPETA PERO SI EN LA TERMINAL CMD+ALT+ESC Y REINICIAR EL FINDER\n",
    "path = '../Videos/*.mp4'\n",
    "\n",
    "def video(path):\n",
    "    for pc in glob.glob(path):\n",
    "        vidObj = cv2.VideoCapture(pc)\n",
    "        mpg = pc.split('/')[-1]\n",
    "        name = re.sub('\\.\\w+', '', mpg)  \n",
    "        if vidObj.get(cv2.CAP_PROP_POS_MSEC) < 1500:\n",
    "            frameRate = 0.5 #//it will capture image in each 0.5 second\n",
    "            success(frameRate, vidObj, name)      \n",
    "        else:\n",
    "            frameRate = 1.0 #//it will capture image in each 1.0 second\n",
    "            success(frameRate, vidObj, name)     \n",
    "    return None\n",
    "\n",
    "def getFrame(sec, vidObj, name):   \n",
    "    vidObj.set(cv2.CAP_PROP_POS_MSEC,sec*1000)\n",
    "    hasFrames, image = vidObj.read()   \n",
    "    if hasFrames:\n",
    "        cv2.imwrite(f\"{name}{int(round(sec*2, 0))}.jpg\", image)     # save frame as JPG file           \n",
    "    return hasFrames\n",
    "\n",
    "def success(frameRate, vidObj, name):\n",
    "    sec = 0\n",
    "    count=1\n",
    "    success = getFrame(sec, vidObj, name)\n",
    "    while success:\n",
    "        count = count + 1\n",
    "        sec = sec + frameRate\n",
    "        sec = round(sec, 2)\n",
    "        success = getFrame(sec,vidObj, name)\n",
    "    \n",
    "video(path)   "
   ]
  }
 ],
 "metadata": {
  "kernelspec": {
   "display_name": "Python 3",
   "language": "python",
   "name": "python3"
  },
  "language_info": {
   "codemirror_mode": {
    "name": "ipython",
    "version": 3
   },
   "file_extension": ".py",
   "mimetype": "text/x-python",
   "name": "python",
   "nbconvert_exporter": "python",
   "pygments_lexer": "ipython3",
   "version": "3.7.4"
  }
 },
 "nbformat": 4,
 "nbformat_minor": 2
}
