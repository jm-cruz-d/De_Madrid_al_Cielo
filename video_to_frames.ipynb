{
 "cells": [
  {
   "cell_type": "code",
   "execution_count": 3,
   "metadata": {},
   "outputs": [],
   "source": [
    "import cv2 \n",
    "import re"
   ]
  },
  {
   "cell_type": "code",
   "execution_count": null,
   "metadata": {},
   "outputs": [],
   "source": [
    "# Function to extract frames \n",
    "def FrameCapture(path): \n",
    "      \n",
    "    # Path to video file \n",
    "    vidObj = cv2.VideoCapture(path) \n",
    "  \n",
    "    # Used as counter variable \n",
    "    count = 0\n",
    "  \n",
    "    # checks whether frames were extracted \n",
    "    success = 1\n",
    "  \n",
    "    while success: \n",
    "  \n",
    "        # vidObj object calls read \n",
    "        # function extract frames \n",
    "        success, image = vidObj.read() \n",
    "  \n",
    "        # Saves the frames with frame-count \n",
    "        cv2.imwrite(\"frame%d.jpg\" % count, image) \n",
    "  \n",
    "        count += 1"
   ]
  },
  {
   "cell_type": "code",
   "execution_count": null,
   "metadata": {},
   "outputs": [],
   "source": [
    "FrameCapture('../Youtube/BE.mp4')"
   ]
  },
  {
   "cell_type": "code",
   "execution_count": 8,
   "metadata": {},
   "outputs": [],
   "source": [
    "#SI NO APARECE EN LA CARPETA PERO SI EN LA TERMINAL CMD+ALT+ESC Y REINICIAR EL FINDER\n",
    "path = '../Youtube/BE.mp4'\n",
    "\n",
    "def video(path):\n",
    "    vidObj = cv2.VideoCapture(path)\n",
    "    mpg = path.split('/')[-1]\n",
    "    name = re.sub('\\.\\w+', '', mpg)  \n",
    "    if vidObj.get(cv2.CAP_PROP_POS_MSEC) < 1500:\n",
    "        frameRate = 0.5 #//it will capture image in each 0.5 second\n",
    "        success(frameRate, vidObj, name)      \n",
    "    else:\n",
    "        frameRate = 1.0 #//it will capture image in each 1.0 second\n",
    "        success(frameRate, vidObj, name)     \n",
    "    return None\n",
    "\n",
    "def getFrame(sec, vidObj, name):   \n",
    "    vidObj.set(cv2.CAP_PROP_POS_MSEC,sec*1000)\n",
    "    hasFrames, image = vidObj.read()   \n",
    "    if hasFrames:\n",
    "        cv2.imwrite(f\"{name}{int(round(sec*2, 0))}.jpg\", image)     # save frame as JPG file           \n",
    "    return hasFrames\n",
    "\n",
    "def success(frameRate, vidObj, name):\n",
    "    sec = 0\n",
    "    count=1\n",
    "    success = getFrame(sec, vidObj, name)\n",
    "    while success:\n",
    "        count = count + 1\n",
    "        sec = sec + frameRate\n",
    "        sec = round(sec, 2)\n",
    "        success = getFrame(sec,vidObj, name)\n",
    "    \n",
    "video(path)    "
   ]
  },
  {
   "cell_type": "code",
   "execution_count": null,
   "metadata": {},
   "outputs": [],
   "source": [
    "import cv2\n",
    "#for i in range(0,5000,1000):\n",
    "vidcap = cv2.VideoCapture('../Videos/Atocha.mp4')\n",
    "print(vidcap.get(cv2.CAP_PROP_POS_MSEC))\n",
    "#print(vidcap.get(CAP_PROP_POS_FRAMES))\n",
    "print(vidcap.get(cv2.CAP_PROP_FRAME_COUNT))\n",
    "\n",
    "    #vidcap.set(cv2.CAP_PROP_POS_MSEC, i)      \n",
    "    #success,image = vidcap.read()\n",
    "    #count = 0\n",
    "    #while success:    \n",
    "        #cv2.imwrite(\"frame%d.jpg\" % count, image)     # save frame as JPEG file\n",
    "        #count += 1"
   ]
  },
  {
   "cell_type": "code",
   "execution_count": null,
   "metadata": {},
   "outputs": [],
   "source": [
    "path = '../Youtube/MP.mp4'\n",
    "vidObj = cv2.VideoCapture(path)\n",
    "def getFrame(sec):   \n",
    "    vidObj.set(cv2.CAP_PROP_POS_MSEC,sec*1000)\n",
    "    hasFrames, image = vidObj.read()\n",
    "    name=0\n",
    "    if hasFrames:\n",
    "        cv2.imwrite(f\"frame{name}.jpg\", image)     # save frame as JPG file\n",
    "        name+=1\n",
    "    return hasFrames"
   ]
  }
 ],
 "metadata": {
  "kernelspec": {
   "display_name": "Python 3",
   "language": "python",
   "name": "python3"
  },
  "language_info": {
   "codemirror_mode": {
    "name": "ipython",
    "version": 3
   },
   "file_extension": ".py",
   "mimetype": "text/x-python",
   "name": "python",
   "nbconvert_exporter": "python",
   "pygments_lexer": "ipython3",
   "version": "3.7.4"
  }
 },
 "nbformat": 4,
 "nbformat_minor": 2
}
