{
 "cells": [
  {
   "cell_type": "code",
   "execution_count": 1,
   "metadata": {},
   "outputs": [],
   "source": [
    "import requests\n",
    "from bs4 import BeautifulSoup\n"
   ]
  },
  {
   "cell_type": "code",
   "execution_count": 3,
   "metadata": {},
   "outputs": [],
   "source": [
    "res = requests.get(\"https://es.wikipedia.org/wiki/Puerta_de_Alcal%C3%A1\")\n",
    "html = res.text\n",
    "soup = BeautifulSoup(html, 'html.parser')\n"
   ]
  },
  {
   "cell_type": "code",
   "execution_count": 33,
   "metadata": {},
   "outputs": [],
   "source": [
    "tabla = soup.select(\"table\")[0]\n"
   ]
  },
  {
   "cell_type": "code",
   "execution_count": 57,
   "metadata": {},
   "outputs": [
    {
     "data": {
      "text/plain": [
       "[<tr><td colspan=\"3\" style=\"text-align:center;background-color:#F2F5A9; font-weight:normal;\">\n",
       " Monumento histórico-artístico</td></tr>,\n",
       " <tr><td colspan=\"3\" style=\"text-align:center;\">\n",
       " <a class=\"image\" href=\"/wiki/Archivo:Puerta_de_Alcal%C3%A1,_Madrid,_Espa%C3%B1a,_2017-05-18,_DD_14.jpg\"><img alt=\"Puerta de Alcalá, Madrid, España, 2017-05-18, DD 14.jpg\" data-file-height=\"3851\" data-file-width=\"5923\" decoding=\"async\" height=\"176\" src=\"//upload.wikimedia.org/wikipedia/commons/thumb/1/1d/Puerta_de_Alcal%C3%A1%2C_Madrid%2C_Espa%C3%B1a%2C_2017-05-18%2C_DD_14.jpg/270px-Puerta_de_Alcal%C3%A1%2C_Madrid%2C_Espa%C3%B1a%2C_2017-05-18%2C_DD_14.jpg\" srcset=\"//upload.wikimedia.org/wikipedia/commons/thumb/1/1d/Puerta_de_Alcal%C3%A1%2C_Madrid%2C_Espa%C3%B1a%2C_2017-05-18%2C_DD_14.jpg/405px-Puerta_de_Alcal%C3%A1%2C_Madrid%2C_Espa%C3%B1a%2C_2017-05-18%2C_DD_14.jpg 1.5x, //upload.wikimedia.org/wikipedia/commons/thumb/1/1d/Puerta_de_Alcal%C3%A1%2C_Madrid%2C_Espa%C3%B1a%2C_2017-05-18%2C_DD_14.jpg/540px-Puerta_de_Alcal%C3%A1%2C_Madrid%2C_Espa%C3%B1a%2C_2017-05-18%2C_DD_14.jpg 2x\" width=\"270\"/></a><br/><div style=\"display:inline;font-size: 95%;\">Fachada oeste o interior, con los cinco vanos</div></td></tr>,\n",
       " <tr><th colspan=\"3\" style=\"text-align:center;background-color:#D5D4FC;\">Localización</th></tr>,\n",
       " <tr><th scope=\"row\" style=\"text-align:left;background-color: #f6f6f6; font-weight:bold; width:35%;\">País</th><td colspan=\"2\">\n",
       " <span style=\"display:none;\">España</span><span class=\"flagicon\"><img alt=\"Flag of Spain.svg\" class=\"thumbborder\" data-file-height=\"500\" data-file-width=\"750\" decoding=\"async\" height=\"13\" src=\"//upload.wikimedia.org/wikipedia/commons/thumb/9/9a/Flag_of_Spain.svg/20px-Flag_of_Spain.svg.png\" srcset=\"//upload.wikimedia.org/wikipedia/commons/thumb/9/9a/Flag_of_Spain.svg/30px-Flag_of_Spain.svg.png 1.5x, //upload.wikimedia.org/wikipedia/commons/thumb/9/9a/Flag_of_Spain.svg/40px-Flag_of_Spain.svg.png 2x\" width=\"20\"/></span> <a href=\"/wiki/Espa%C3%B1a\" title=\"España\">España</a></td></tr>,\n",
       " <tr><th scope=\"row\" style=\"text-align:left;background-color: #f6f6f6; font-weight:bold; width:35%;\">División</th><td colspan=\"2\">\n",
       " <span style=\"display:none;\">Madrid</span><span class=\"flagicon\"><a class=\"image\" href=\"/wiki/Archivo:Flag_of_the_Community_of_Madrid.svg\"><img alt=\"Flag of the Community of Madrid.svg\" class=\"thumbborder\" data-file-height=\"700\" data-file-width=\"1100\" decoding=\"async\" height=\"13\" src=\"//upload.wikimedia.org/wikipedia/commons/thumb/9/9c/Flag_of_the_Community_of_Madrid.svg/20px-Flag_of_the_Community_of_Madrid.svg.png\" srcset=\"//upload.wikimedia.org/wikipedia/commons/thumb/9/9c/Flag_of_the_Community_of_Madrid.svg/30px-Flag_of_the_Community_of_Madrid.svg.png 1.5x, //upload.wikimedia.org/wikipedia/commons/thumb/9/9c/Flag_of_the_Community_of_Madrid.svg/40px-Flag_of_the_Community_of_Madrid.svg.png 2x\" width=\"20\"/></a></span> <a href=\"/wiki/Comunidad_de_Madrid\" title=\"Comunidad de Madrid\">Madrid</a></td></tr>,\n",
       " <tr><th scope=\"row\" style=\"text-align:left;background-color: #f6f6f6; font-weight:bold; width:35%;\">Municipio(s)</th><td colspan=\"2\">\n",
       " <a href=\"/wiki/Madrid\" title=\"Madrid\">Madrid</a></td></tr>,\n",
       " <tr><th scope=\"row\" style=\"text-align:left;background-color: #f6f6f6; font-weight:bold; width:35%;\">Ubicación</th><td colspan=\"2\">\n",
       " Plaza de la Independencia</td></tr>,\n",
       " <tr><th colspan=\"3\" style=\"text-align:center;background-color:#D5D4FC;\">Información general</th></tr>,\n",
       " <tr><th scope=\"row\" style=\"text-align:left;background-color: #f6f6f6; font-weight:bold; width:35%;\">Propietario</th><td colspan=\"2\">\n",
       " <a href=\"/wiki/Ayuntamiento_de_Madrid\" title=\"Ayuntamiento de Madrid\">Ayuntamiento de Madrid</a>.</td></tr>,\n",
       " <tr><th colspan=\"3\" style=\"text-align:center;background-color:#D5D4FC;\">Historia del edificio/monumento</th></tr>,\n",
       " <tr><th scope=\"row\" style=\"text-align:left;background-color: #f6f6f6; font-weight:bold; width:35%;\">Construcción</th><td colspan=\"2\">\n",
       " <a href=\"/wiki/1769\" title=\"1769\">1769</a>-<a href=\"/wiki/1778\" title=\"1778\">1778</a></td></tr>,\n",
       " <tr><th scope=\"row\" style=\"text-align:left;background-color: #f6f6f6; font-weight:bold; width:35%;\">Autor</th><td colspan=\"2\">\n",
       " <a href=\"/wiki/Francesco_Sabatini\" title=\"Francesco Sabatini\">Francesco Sabatini</a><br/><a href=\"/wiki/Francisco_Guti%C3%A9rrez_Arribas\" title=\"Francisco Gutiérrez Arribas\">Francisco Gutiérrez Arribas</a><br/><a href=\"/wiki/Roberto_Michel\" title=\"Roberto Michel\">Roberto Michel</a></td></tr>,\n",
       " <tr><th scope=\"row\" style=\"text-align:left;background-color: #f6f6f6; font-weight:bold; width:35%;\">Arquitecto(s)</th><td colspan=\"2\">\n",
       " <a href=\"/wiki/Francesco_Sabatini\" title=\"Francesco Sabatini\">Francesco Sabatini</a></td></tr>,\n",
       " <tr><th colspan=\"3\" style=\"text-align:center;background-color:#D5D4FC;\">Características</th></tr>,\n",
       " <tr><th scope=\"row\" style=\"text-align:left;background-color: #f6f6f6; font-weight:bold; width:35%;\">Tipo</th><td colspan=\"2\">\n",
       " Puerta monumental <br/>(Puerta de entrada a Madrid)</td></tr>,\n",
       " <tr><th scope=\"row\" style=\"text-align:left;background-color: #f6f6f6; font-weight:bold; width:35%;\">Estilo(s)</th><td colspan=\"2\">\n",
       " <a href=\"/wiki/Arquitectura_neocl%C3%A1sica\" title=\"Arquitectura neoclásica\">Neoclásico</a></td></tr>,\n",
       " <tr><th scope=\"row\" style=\"text-align:left;background-color: #f6f6f6; font-weight:bold; width:35%;\">Dimensiones</th><td colspan=\"2\">\n",
       " 43,967 m (frente), 21,946 m (altura)</td></tr>,\n",
       " <tr><th colspan=\"3\" style=\"text-align:center;background-color:#D5D4FC;\">Protección del monumento</th></tr>,\n",
       " <tr><th scope=\"row\" style=\"text-align:left;background-color: #f6f6f6; font-weight:bold; width:35%;\">Declaración</th><td colspan=\"2\">\n",
       " <a href=\"/wiki/Bien_de_Inter%C3%A9s_Cultural_(Espa%C3%B1a)\" title=\"Bien de Interés Cultural (España)\">Bien de Interés Cultural</a>.</td></tr>,\n",
       " <tr><th scope=\"row\" style=\"text-align:left;background-color: #f6f6f6; font-weight:bold; width:35%;\">Características</th><td colspan=\"2\">\n",
       " Monumento de la <a href=\"/wiki/Ilustraci%C3%B3n\" title=\"Ilustración\">Ilustración</a>. Puerta con tres arcos adornados con lemas, armas, banderas y cornucopias. Cuenta con varias esculturas y está rematada con el <a href=\"/wiki/Escudo_de_Espa%C3%B1a\" title=\"Escudo de España\">Escudo de España</a>. Primer <i>Arco del Triunfo</i> de <a href=\"/wiki/Europa\" title=\"Europa\">Europa</a> desde la <a href=\"/wiki/Ca%C3%ADda_del_Imperio_romano_de_Occidente\" title=\"Caída del Imperio romano de Occidente\">caída del Imperio Romano</a>.</td></tr>,\n",
       " <tr><th colspan=\"3\" style=\"text-align:center;background-color:#D5D4FC;\">Mapa(s) de localización</th></tr>,\n",
       " <tr><td colspan=\"3\" style=\"text-align:center;\">\n",
       " <div class=\"center\"><div style=\"width:270px;float:none;clear:both;margin-left:auto;margin-right:auto\"><div style=\"width:270px;padding:0\"><div style=\"position:relative;width:270px\"><a class=\"image\" href=\"/wiki/Archivo:Location_map_Madrid.png\"><img alt=\"Puerta de Alcalá ubicada en Madrid\" data-file-height=\"805\" data-file-width=\"901\" decoding=\"async\" height=\"241\" src=\"//upload.wikimedia.org/wikipedia/commons/thumb/9/98/Location_map_Madrid.png/270px-Location_map_Madrid.png\" srcset=\"//upload.wikimedia.org/wikipedia/commons/thumb/9/98/Location_map_Madrid.png/405px-Location_map_Madrid.png 1.5x, //upload.wikimedia.org/wikipedia/commons/thumb/9/98/Location_map_Madrid.png/540px-Location_map_Madrid.png 2x\" width=\"270\"/></a><div style=\"position:absolute;top:48.341%;left:49.964%;height:0;width:0;margin:0;padding:0\"><div style=\"position:absolute;text-align:center;left:-4px;top:-4px;width:7px;font-size:7px;line-height:0\"><img alt=\"Puerta de Alcalá\" data-file-height=\"64\" data-file-width=\"64\" decoding=\"async\" height=\"7\" src=\"//upload.wikimedia.org/wikipedia/commons/thumb/0/0c/Red_pog.svg/7px-Red_pog.svg.png\" srcset=\"//upload.wikimedia.org/wikipedia/commons/thumb/0/0c/Red_pog.svg/11px-Red_pog.svg.png 1.5x, //upload.wikimedia.org/wikipedia/commons/thumb/0/0c/Red_pog.svg/14px-Red_pog.svg.png 2x\" title=\"Puerta de Alcalá\" width=\"7\"/></div><div style=\"font-size:90%;line-height:110%;position:absolute;width:6em;top:-0.75em;left:5px;text-align:left\"><span style=\"padding:1px;float:left\">Puerta de Alcalá</span></div></div></div><div style=\"font-size:90%;padding-top:3px\"></div></div></div></div>\n",
       " <div style=\"font-size:95%\"> Ubicación (Madrid).</div><hr/></td></tr>,\n",
       " <tr><th scope=\"row\" style=\"text-align:left;background-color: #f6f6f6; font-weight:bold; width:35%;\"><a href=\"/wiki/Sistema_de_coordenadas\" title=\"Sistema de coordenadas\">Coordenadas</a></th><td colspan=\"2\" style=\"background-color:#F7F3F1;;\">\n",
       " <span class=\"plainlinks nourlexpansion\"><a class=\"external text\" href=\"http://tools.wmflabs.org/geohack/geohack.php?language=es&amp;pagename=Puerta_de_Alcal%C3%A1&amp;params=40.42_N_-3.68861_E_type:landmark\"><span class=\"geo-default\"><span class=\"geo-dms\" title=\"Mapas, fotos y otros datos de 40°25′12″N 3°41′19″O\"><span class=\"latitude\">40°25′12″N </span><span class=\"longitude\">3°41′19″O</span></span></span><span class=\"geo-multi-punct\">﻿ / ﻿</span><span class=\"geo-nondefault\"><span class=\"geo-dec\" title=\"Mapas, fotos y otros datos de 40.42 -3.68861\"><span class=\"geo\"><span class=\"latitude\">40.42, </span><span class=\"longitude\">-3.68861</span></span></span></span></a></span><span style=\"font-size: small;\"><span id=\"coordinates\"><a href=\"/wiki/Coordenadas_geogr%C3%A1ficas\" title=\"Coordenadas geográficas\">Coordenadas</a>: <span class=\"plainlinks nourlexpansion\"><a class=\"external text\" href=\"http://tools.wmflabs.org/geohack/geohack.php?language=es&amp;pagename=Puerta_de_Alcal%C3%A1&amp;params=40.42_N_-3.68861_E_type:landmark\"><span class=\"geo-default\"><span class=\"geo-dms\" title=\"Mapas, fotos y otros datos de 40°25′12″N 3°41′19″O\"><span class=\"latitude\">40°25′12″N </span><span class=\"longitude\">3°41′19″O</span></span></span><span class=\"geo-multi-punct\">﻿ / ﻿</span><span class=\"geo-nondefault\"><span class=\"geo-dec\" title=\"Mapas, fotos y otros datos de 40.42 -3.68861\"><span class=\"geo\"><span class=\"latitude\">40.42, </span><span class=\"longitude\">-3.68861</span></span></span></span></a></span></span></span></td></tr>,\n",
       " <tr><td class=\"noprint\" colspan=\"3\" style=\"text-align:left;\"><div class=\"plainlinks wikidata-link\" style=\"font-size: 0.85em\">[<a class=\"extiw\" href=\"https://www.wikidata.org/wiki/Q1140634\" title=\"d:Q1140634\">editar datos en Wikidata</a>]</div></td></tr>]"
      ]
     },
     "execution_count": 57,
     "metadata": {},
     "output_type": "execute_result"
    }
   ],
   "source": [
    "filas = tabla.find_all('tr')[1:]\n",
    "filas"
   ]
  },
  {
   "cell_type": "code",
   "execution_count": 110,
   "metadata": {},
   "outputs": [],
   "source": [
    "td = []\n",
    "td1 = []\n",
    "for fila in filas:\n",
    "    celdas = fila.find_all('td')\n",
    "    td.append(celdas)\n",
    "for t in td:\n",
    "    if len(t)==0:\n",
    "        td1.append(None)\n",
    "    elif len(t) > 0:\n",
    "        td1.append(t[0].text)"
   ]
  },
  {
   "cell_type": "code",
   "execution_count": 111,
   "metadata": {},
   "outputs": [],
   "source": [
    "th = []\n",
    "th1 = []\n",
    "for fila in filas:\n",
    "    cells = fila.find_all('th')\n",
    "    th.append(cells)\n",
    "for d in th:\n",
    "    if len(d)==0:\n",
    "        td1.append(0)\n",
    "    elif len(d) > 0:\n",
    "        th1.append(d[0].text)"
   ]
  },
  {
   "cell_type": "code",
   "execution_count": 112,
   "metadata": {},
   "outputs": [
    {
     "data": {
      "text/plain": [
       "['Localización',\n",
       " 'País',\n",
       " 'División',\n",
       " 'Municipio(s)',\n",
       " 'Ubicación',\n",
       " 'Información general',\n",
       " 'Propietario',\n",
       " 'Historia del edificio/monumento',\n",
       " 'Construcción',\n",
       " 'Autor',\n",
       " 'Arquitecto(s)',\n",
       " 'Características',\n",
       " 'Tipo',\n",
       " 'Estilo(s)',\n",
       " 'Dimensiones',\n",
       " 'Protección del monumento',\n",
       " 'Declaración',\n",
       " 'Características',\n",
       " 'Mapa(s) de localización',\n",
       " 'Coordenadas']"
      ]
     },
     "execution_count": 112,
     "metadata": {},
     "output_type": "execute_result"
    }
   ],
   "source": [
    "th1"
   ]
  },
  {
   "cell_type": "code",
   "execution_count": 113,
   "metadata": {},
   "outputs": [],
   "source": [
    "dictionary={}\n",
    "for h, d in zip(th1, td1):\n",
    "    #if len(d) > 0:\n",
    "    dictionary[h]=d"
   ]
  },
  {
   "cell_type": "code",
   "execution_count": 114,
   "metadata": {},
   "outputs": [
    {
     "data": {
      "text/plain": [
       "{'Localización': '\\nMonumento histórico-artístico',\n",
       " 'País': '\\nFachada oeste o interior, con los cinco vanos',\n",
       " 'División': None,\n",
       " 'Municipio(s)': '\\nEspaña\\xa0España',\n",
       " 'Ubicación': '\\nMadrid\\xa0Madrid',\n",
       " 'Información general': '\\nMadrid',\n",
       " 'Propietario': '\\nPlaza de la Independencia',\n",
       " 'Historia del edificio/monumento': None,\n",
       " 'Construcción': '\\nAyuntamiento de Madrid.',\n",
       " 'Autor': None,\n",
       " 'Arquitecto(s)': '\\n1769-1778',\n",
       " 'Características': None,\n",
       " 'Tipo': '\\nFrancesco Sabatini',\n",
       " 'Estilo(s)': None,\n",
       " 'Dimensiones': '\\nPuerta monumental (Puerta de entrada a Madrid)',\n",
       " 'Protección del monumento': '\\nNeoclásico',\n",
       " 'Declaración': '\\n43,967\\xa0m (frente), 21,946\\xa0m (altura)',\n",
       " 'Mapa(s) de localización': '\\nBien de Interés Cultural.',\n",
       " 'Coordenadas': '\\nMonumento de la Ilustración. Puerta con tres arcos adornados con lemas, armas, banderas y cornucopias. Cuenta con varias esculturas y está rematada con el Escudo de España. Primer Arco del Triunfo de Europa desde la caída del Imperio Romano.'}"
      ]
     },
     "execution_count": 114,
     "metadata": {},
     "output_type": "execute_result"
    }
   ],
   "source": [
    "dictionary"
   ]
  },
  {
   "cell_type": "code",
   "execution_count": null,
   "metadata": {},
   "outputs": [],
   "source": []
  }
 ],
 "metadata": {
  "kernelspec": {
   "display_name": "Python 3",
   "language": "python",
   "name": "python3"
  },
  "language_info": {
   "codemirror_mode": {
    "name": "ipython",
    "version": 3
   },
   "file_extension": ".py",
   "mimetype": "text/x-python",
   "name": "python",
   "nbconvert_exporter": "python",
   "pygments_lexer": "ipython3",
   "version": "3.7.4"
  }
 },
 "nbformat": 4,
 "nbformat_minor": 2
}
